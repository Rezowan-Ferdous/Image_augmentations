{
  "nbformat": 4,
  "nbformat_minor": 0,
  "metadata": {
    "colab": {
      "name": "ImageAugmentation.ipynb",
      "provenance": [],
      "collapsed_sections": []
    },
    "kernelspec": {
      "display_name": "Python 3",
      "name": "python3"
    },
    "language_info": {
      "name": "python"
    }
  },
  "cells": [
    {
      "cell_type": "code",
      "metadata": {
        "colab": {
          "base_uri": "https://localhost:8080/"
        },
        "id": "TSu2b59IurnK",
        "outputId": "c3c32f81-1ca8-492a-d01d-6a2aa1d1e519"
      },
      "source": [
        "from google.colab import drive\n",
        "drive.mount('/content/drive')"
      ],
      "execution_count": null,
      "outputs": [
        {
          "output_type": "stream",
          "text": [
            "Drive already mounted at /content/drive; to attempt to forcibly remount, call drive.mount(\"/content/drive\", force_remount=True).\n"
          ],
          "name": "stdout"
        }
      ]
    },
    {
      "cell_type": "code",
      "metadata": {
        "colab": {
          "base_uri": "https://localhost:8080/"
        },
        "id": "TOj2W27IvNj1",
        "outputId": "2d5919a7-e31f-4ba8-983f-edef00f53d08"
      },
      "source": [
        "pip install sk"
      ],
      "execution_count": null,
      "outputs": [
        {
          "output_type": "stream",
          "text": [
            "Collecting sk\n",
            "  Downloading https://files.pythonhosted.org/packages/7a/82/f13977ecd1f31e3e366b9fee28a909fb47367e03047c3b2a2aa6b9a2ce74/sk-0.0.1.tar.gz\n",
            "Building wheels for collected packages: sk\n",
            "  Building wheel for sk (setup.py) ... \u001b[?25l\u001b[?25hdone\n",
            "  Created wheel for sk: filename=sk-0.0.1-cp37-none-any.whl size=1884 sha256=05b1b66108d3bc1a3db88a77c239571bfb3bee275fe1d0c2b43a4879fbccf5c0\n",
            "  Stored in directory: /root/.cache/pip/wheels/03/8b/c2/f0f06fa931b5bdf839fb1b90e650002203b3e7237808c6bd21\n",
            "Successfully built sk\n",
            "Installing collected packages: sk\n",
            "Successfully installed sk-0.0.1\n"
          ],
          "name": "stdout"
        }
      ]
    },
    {
      "cell_type": "code",
      "metadata": {
        "id": "F1h3gShnvR1m"
      },
      "source": [
        "import random\n",
        "from scipy import ndarray\n",
        "import skimage as sk\n",
        "from skimage import transform\n",
        "from skimage import util\n",
        "\n",
        "def random_rotation(image_array: ndarray):\n",
        "    # pick a random degree of rotation between 25% on the left and 25% on the right\n",
        "    random_degree = random.uniform(-25, 25)\n",
        "    return sk.transform.rotate(image_array, random_degree)\n",
        "\n",
        "def random_noise(image_array: ndarray):\n",
        "    # add random noise to the image\n",
        "    return sk.util.random_noise(image_array)\n",
        "\n",
        "def horizontal_flip(image_array: ndarray):\n",
        "    # horizontal flip doesn't need skimage, it's easy as flipping the image array of pixels !\n",
        "    return image_array[:, ::-1]\n"
      ],
      "execution_count": null,
      "outputs": []
    },
    {
      "cell_type": "code",
      "metadata": {
        "colab": {
          "base_uri": "https://localhost:8080/",
          "height": 248
        },
        "id": "n4NpWadQvWC8",
        "outputId": "32e8500a-0ed4-4f81-9871-82fe6e76b467"
      },
      "source": [
        "import random\n",
        "from scipy import ndarray\n",
        "import skimage as sk\n",
        "from skimage import transform\n",
        "from skimage import util\n",
        "import os\n",
        "from skimage import io\n",
        "\n",
        "\n",
        "# our folder path containing some images\n",
        "folder_path = '/content/drive/MyDrive/Colab Notebooks/Rezowan /Rezowan_Masked'\n",
        "# the number of file to generate\n",
        "num_files_desired = 1000\n",
        "\n",
        "# loop on all files of the folder and build a list of files paths\n",
        "images = [os.path.join(folder_path, f) for f in os.listdir(folder_path) if os.path.isfile(os.path.join(folder_path, f))]\n",
        "\n",
        "num_generated_files = 0\n",
        "while num_generated_files <= num_files_desired:\n",
        "    # random image from the folder\n",
        "    image_path = random.choice(images)\n",
        "    # read image as an two dimensional array of pixels\n",
        "    print(image_path)\n",
        "    image_to_transform = sk.io.imread(image_path)\n",
        "    available_transformations = {\n",
        "    'rotate': random_rotation,\n",
        "    'noise': random_noise,\n",
        "    'horizontal_flip': horizontal_flip\n",
        "    }\n",
        "\n",
        "    # random num of transformations to apply\n",
        "    num_transformations_to_apply = random.randint(1, len(available_transformations))\n",
        "\n",
        "    num_transformations = 0\n",
        "    transformed_image = None\n",
        "    while num_transformations <= num_transformations_to_apply:\n",
        "        # choose a random transformation to apply for a single image\n",
        "        key = random.choice(list(available_transformations))\n",
        "        transformed_image = available_transformations[key](image_to_transform)\n",
        "        num_transformations += 1\n",
        "        # define a name for our new file\n",
        "        new_file_path = '%s/rezomasked%s.png' % (folder_path, num_generated_files)\n",
        "\n",
        "        # write image to the disk\n",
        "        sk.io.imsave(new_file_path, transformed_image)\n",
        "    num_generated_files+=1\n"
      ],
      "execution_count": null,
      "outputs": [
        {
          "output_type": "stream",
          "text": [
            "/content/drive/MyDrive/Colab Notebooks/Rezowan /Rezowan_Masked/rezomasked11.png\n"
          ],
          "name": "stdout"
        },
        {
          "output_type": "error",
          "ename": "NameError",
          "evalue": "ignored",
          "traceback": [
            "\u001b[0;31m---------------------------------------------------------------------------\u001b[0m",
            "\u001b[0;31mNameError\u001b[0m                                 Traceback (most recent call last)",
            "\u001b[0;32m<ipython-input-1-88ce28fdfcfb>\u001b[0m in \u001b[0;36m<module>\u001b[0;34m()\u001b[0m\n\u001b[1;32m     24\u001b[0m     \u001b[0mimage_to_transform\u001b[0m \u001b[0;34m=\u001b[0m \u001b[0msk\u001b[0m\u001b[0;34m.\u001b[0m\u001b[0mio\u001b[0m\u001b[0;34m.\u001b[0m\u001b[0mimread\u001b[0m\u001b[0;34m(\u001b[0m\u001b[0mimage_path\u001b[0m\u001b[0;34m)\u001b[0m\u001b[0;34m\u001b[0m\u001b[0;34m\u001b[0m\u001b[0m\n\u001b[1;32m     25\u001b[0m     available_transformations = {\n\u001b[0;32m---> 26\u001b[0;31m     \u001b[0;34m'rotate'\u001b[0m\u001b[0;34m:\u001b[0m \u001b[0mrandom_rotation\u001b[0m\u001b[0;34m,\u001b[0m\u001b[0;34m\u001b[0m\u001b[0;34m\u001b[0m\u001b[0m\n\u001b[0m\u001b[1;32m     27\u001b[0m     \u001b[0;34m'noise'\u001b[0m\u001b[0;34m:\u001b[0m \u001b[0mrandom_noise\u001b[0m\u001b[0;34m,\u001b[0m\u001b[0;34m\u001b[0m\u001b[0;34m\u001b[0m\u001b[0m\n\u001b[1;32m     28\u001b[0m     \u001b[0;34m'horizontal_flip'\u001b[0m\u001b[0;34m:\u001b[0m \u001b[0mhorizontal_flip\u001b[0m\u001b[0;34m\u001b[0m\u001b[0;34m\u001b[0m\u001b[0m\n",
            "\u001b[0;31mNameError\u001b[0m: name 'random_rotation' is not defined"
          ]
        }
      ]
    },
    {
      "cell_type": "code",
      "metadata": {
        "id": "pOJX098Svd9M"
      },
      "source": [
        ""
      ],
      "execution_count": null,
      "outputs": []
    }
  ]
}